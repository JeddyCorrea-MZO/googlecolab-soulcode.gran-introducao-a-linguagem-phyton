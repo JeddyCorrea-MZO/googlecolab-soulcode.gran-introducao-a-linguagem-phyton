{
  "cells": [
    {
      "cell_type": "markdown",
      "metadata": {
        "id": "view-in-github",
        "colab_type": "text"
      },
      "source": [
        "<a href=\"https://colab.research.google.com/github/JeddyCorrea-MZO/googlecolab-soulcode.gran-introducao-a-linguagem-phyton/blob/main/SoulCode_Python_Introdu%C3%A7%C3%A3o_ao_Python.ipynb\" target=\"_parent\"><img src=\"https://colab.research.google.com/assets/colab-badge.svg\" alt=\"Open In Colab\"/></a>"
      ]
    },
    {
      "cell_type": "markdown",
      "metadata": {
        "id": "o1yL3TmXfODN"
      },
      "source": [
        "#**Aula 01 - Python: Introdução ao Pyhton**\n",
        "\n",
        "**Comentários**"
      ]
    },
    {
      "cell_type": "code",
      "execution_count": null,
      "metadata": {
        "colab": {
          "base_uri": "https://localhost:8080/"
        },
        "id": "S7L_mL6veW7A",
        "outputId": "2da0eae3-9eb5-4e0b-cd58-a867a3c2bb9c"
      },
      "outputs": [
        {
          "name": "stdout",
          "output_type": "stream",
          "text": [
            "Olá Mundo!\n"
          ]
        }
      ],
      "source": [
        "#Esta linha imprime um texto\n",
        "\n",
        "print(\"Olá Mundo!\")"
      ]
    },
    {
      "cell_type": "code",
      "execution_count": null,
      "metadata": {
        "colab": {
          "base_uri": "https://localhost:8080/"
        },
        "id": "pYWHsT1Cg6VN",
        "outputId": "9920d2c0-c047-496b-9b70-8791baf3b10a"
      },
      "outputs": [
        {
          "name": "stdout",
          "output_type": "stream",
          "text": [
            "Olá Mundo!\n"
          ]
        }
      ],
      "source": [
        "'''\n",
        "Este é um comentário\n",
        "longo\n",
        "no Python\n",
        "'''\n",
        "print(\"Olá Mundo!\")"
      ]
    },
    {
      "cell_type": "code",
      "execution_count": null,
      "metadata": {
        "colab": {
          "base_uri": "https://localhost:8080/"
        },
        "id": "N8J1EsJhhO8h",
        "outputId": "369005dc-0c61-47ea-c121-da83962c57fb"
      },
      "outputs": [
        {
          "name": "stdout",
          "output_type": "stream",
          "text": [
            "Olá Mundo!\n"
          ]
        }
      ],
      "source": [
        "\"\"\"\n",
        "Este é um comentário\n",
        "longo\n",
        "no Python\n",
        "\"\"\"\n",
        "print(\"Olá Mundo!\")"
      ]
    },
    {
      "cell_type": "markdown",
      "metadata": {
        "id": "EbDLDrcgoFr-"
      },
      "source": [
        "**Indentação**"
      ]
    },
    {
      "cell_type": "code",
      "execution_count": null,
      "metadata": {
        "colab": {
          "base_uri": "https://localhost:8080/"
        },
        "id": "NuoYnbo9on7J",
        "outputId": "91ab9c11-05be-4a25-ab77-33f2f845752b"
      },
      "outputs": [
        {
          "name": "stdout",
          "output_type": "stream",
          "text": [
            "x é igual a 10\n",
            "y é igual a 10\n",
            "y é igual a 10\n",
            "x é igual a 10\n"
          ]
        }
      ],
      "source": [
        "x = 0;\n",
        "y = 0;\n",
        "\n",
        "if x == 0:\n",
        "  print(\"x é igual a 10\")\n",
        "  print(\"y é igual a 10\")\n",
        "\n",
        "  if y == 0:\n",
        "    print(\"y é igual a 10\")\n",
        "\n",
        "print(\"x é igual a 10\")"
      ]
    },
    {
      "cell_type": "markdown",
      "metadata": {
        "id": "sCvA3L7IjpCf"
      },
      "source": [
        "**Variáveis**"
      ]
    },
    {
      "cell_type": "code",
      "execution_count": null,
      "metadata": {
        "id": "nq3Ji4Zrs4Zm"
      },
      "outputs": [],
      "source": [
        "idade = 32\n",
        "peso = 65.4\n",
        "nome = \"José\"\n",
        "peso1 = \"65.4\"\n",
        "situacao = True\n",
        "situacao1 = False"
      ]
    },
    {
      "cell_type": "markdown",
      "metadata": {
        "id": "VJpJQTPJulHM"
      },
      "source": [
        "**Tipo de Dados**"
      ]
    },
    {
      "cell_type": "code",
      "execution_count": null,
      "metadata": {
        "colab": {
          "base_uri": "https://localhost:8080/"
        },
        "id": "YLt3i3yMupQi",
        "outputId": "5c6c69be-0054-4f11-bfe2-ce8b6ea731b1"
      },
      "outputs": [
        {
          "data": {
            "text/plain": [
              "bool"
            ]
          },
          "execution_count": 9,
          "metadata": {},
          "output_type": "execute_result"
        }
      ],
      "source": [
        "idade = 32\n",
        "peso = 65.4\n",
        "nome = \"José\"\n",
        "peso1 = \"65.4\"\n",
        "situacao = True\n",
        "situacao1 = False\n",
        "\n",
        "type(idade)\n",
        "type(peso)\n",
        "\n",
        "#String\n",
        "type(nome)\n",
        "\n",
        "#Booleana\n",
        "type(situacao)"
      ]
    },
    {
      "cell_type": "markdown",
      "metadata": {
        "id": "uQQTuTVf6D4m"
      },
      "source": [
        "**Exercício 1 - Aula 01 – Introdução a Linguagem**\n",
        "\n",
        "Prática Proposta - Aula 01\n",
        "Como sugestão de prática, indicamos você a criar um novo script python seguindo as orientações a seguir:\n",
        "\n",
        "1) Crie quatro variáveis, sendo elas com nomes de animais, quantidade de animais, peso dos animais e se eles são vacinados ou não.\n",
        "\n",
        "2) Comente seu código usando comentários longos e curtos."
      ]
    },
    {
      "cell_type": "code",
      "execution_count": null,
      "metadata": {
        "colab": {
          "base_uri": "https://localhost:8080/"
        },
        "id": "GcoSiAMe6K6O",
        "outputId": "88997000-b2c5-4501-a734-1e8572901f2a"
      },
      "outputs": [
        {
          "name": "stdout",
          "output_type": "stream",
          "text": [
            "cachorro gato cavalo coelho\n",
            "3 1 1 2\n",
            "2.8 1.95 67.9 2.85\n",
            "True True True True\n"
          ]
        }
      ],
      "source": [
        "#Animais Mamíferos\n",
        "animal = \"cachorro\"\n",
        "animal1 = \"gato\"\n",
        "animal2 = \"cavalo\"\n",
        "animal3 = \"coelho\"\n",
        "\n",
        "'''\n",
        "Quantidade de Animais\n",
        "'''\n",
        "qtd_animal = 3\n",
        "qtd_animal1 = 1\n",
        "qtd_animal2 = 1\n",
        "qtd_animal3 = 2\n",
        "\n",
        "#Peso animais\n",
        "peso_animal = 2.8\n",
        "peso_animal1 = 1.95\n",
        "peso_animal2 = 67.9\n",
        "peso_animal3 = 2.85\n",
        "\n",
        "#Validação da Vacinação - Booleana\n",
        "vacinado_animal = True\n",
        "vacinado_animal1 = True\n",
        "vacinado_animal2 = True\n",
        "vacinado_animal3 = True\n",
        "\n",
        "print(animal, animal1, animal2, animal3)\n",
        "print(qtd_animal, qtd_animal1, qtd_animal2, qtd_animal3)\n",
        "print(peso_animal, peso_animal1, peso_animal2, peso_animal3)\n",
        "print(vacinado_animal, vacinado_animal1, vacinado_animal2, vacinado_animal3)\n"
      ]
    },
    {
      "cell_type": "markdown",
      "metadata": {
        "id": "NIEhYGqn-QdS"
      },
      "source": [
        "#**Aula 02 – Manipulação de dados**\n",
        "\n",
        "**Saída de Dados**"
      ]
    },
    {
      "cell_type": "code",
      "execution_count": null,
      "metadata": {
        "colab": {
          "base_uri": "https://localhost:8080/"
        },
        "id": "TIyWBUn7-kzG",
        "outputId": "73c9a48b-8dff-487b-85e0-74f7fd7eaddd"
      },
      "outputs": [
        {
          "name": "stdout",
          "output_type": "stream",
          "text": [
            "Olá Mundo!\n",
            "José\n",
            "68.8\n",
            "35\n"
          ]
        }
      ],
      "source": [
        "print(\"Olá Mundo!\")\n",
        "\n",
        "nome = \"José\"\n",
        "peso = 68.8\n",
        "idade = 35\n",
        "\n",
        "print(nome)\n",
        "print(peso)\n",
        "print(idade)"
      ]
    },
    {
      "cell_type": "code",
      "execution_count": null,
      "metadata": {
        "colab": {
          "background_save": true,
          "base_uri": "https://localhost:8080/"
        },
        "id": "pjMIqE9Y_CT6",
        "outputId": "e52c266f-3a03-4949-f5f9-f2159c1b4e8a"
      },
      "outputs": [
        {
          "name": "stdout",
          "output_type": "stream",
          "text": [
            "Meu nome é José e minha idade é 35 anos.\n"
          ]
        }
      ],
      "source": [
        "print(\"Meu nome é\",nome, \"e minha idade é\",idade,\"anos.\")"
      ]
    },
    {
      "cell_type": "code",
      "source": [
        "print(\"02\", \"09\", \"2023\", sep= \"/\")"
      ],
      "metadata": {
        "colab": {
          "base_uri": "https://localhost:8080/"
        },
        "id": "eE3BDNapHpKi",
        "outputId": "bdfe3b47-497c-4093-f3b3-247d8050074f"
      },
      "execution_count": null,
      "outputs": [
        {
          "output_type": "stream",
          "name": "stdout",
          "text": [
            "02/09/2023\n"
          ]
        }
      ]
    },
    {
      "cell_type": "code",
      "source": [
        "print('2023', '10', '15', sep= '-')"
      ],
      "metadata": {
        "colab": {
          "base_uri": "https://localhost:8080/"
        },
        "id": "O5_VezfvHzFD",
        "outputId": "5185b9f8-0f91-4e9b-888a-42ca3fa80234"
      },
      "execution_count": null,
      "outputs": [
        {
          "output_type": "stream",
          "name": "stdout",
          "text": [
            "2023-10-15\n"
          ]
        }
      ]
    },
    {
      "cell_type": "code",
      "source": [
        "print('B','n','n','.', sep= \"a\")"
      ],
      "metadata": {
        "colab": {
          "base_uri": "https://localhost:8080/"
        },
        "id": "PMmMoBVCINnV",
        "outputId": "1e1a2b36-6323-4fc8-eba9-2927a8e3f492"
      },
      "execution_count": null,
      "outputs": [
        {
          "output_type": "stream",
          "name": "stdout",
          "text": [
            "Banana.\n"
          ]
        }
      ]
    },
    {
      "cell_type": "markdown",
      "source": [
        "**Entrada de Dados**"
      ],
      "metadata": {
        "id": "YAfnd-iuIwai"
      }
    },
    {
      "cell_type": "code",
      "source": [
        "#Recebe uma String\n",
        "nome = input(\"Escreva seu nome: \")\n",
        "\n",
        "#Recebe um Valor Inteiro\n",
        "idade = int(input(\"Digite a sua Idade: \"))\n",
        "\n",
        "#Recebe um Valor Float\n",
        "peso = float(input(\"Digite o seu Peso (Kg): \"))\n",
        "\n",
        "print(\"Seu nome é:\",nome)\n",
        "print(\"Tem\", idade,\"anos de idade.\")\n",
        "print(\"Pesa atualmente:\",peso,\"Kg.\")"
      ],
      "metadata": {
        "colab": {
          "base_uri": "https://localhost:8080/"
        },
        "id": "bGFiM5E2IzmS",
        "outputId": "36be37ff-343a-4392-8b52-882180494194"
      },
      "execution_count": null,
      "outputs": [
        {
          "output_type": "stream",
          "name": "stdout",
          "text": [
            "Escreva seu nome: Elias\n",
            "Digite a sua Idade: 38\n",
            "Digite o seu Peso (Kg): 95\n",
            "Seu nome é: Elias\n",
            "Tem 38 anos de idade.\n",
            "Pesa atualmente: 95.0 Kg.\n"
          ]
        }
      ]
    },
    {
      "cell_type": "markdown",
      "source": [
        "**Operadores Aritméticos**"
      ],
      "metadata": {
        "id": "bc5S5y1GLCbD"
      }
    },
    {
      "cell_type": "code",
      "source": [
        "#Operações Matemáticas: +, -, *, /, //, %\n",
        "\n",
        "a = int(input(\"Digite um Valor inteiro:\"))\n",
        "b = int(input(\"Digite outro Valor inteiro:\"))\n",
        "\n",
        "\n",
        "print(\"A soma é:\", a + b)\n",
        "print(\"A subtração é:\", a - b)\n",
        "print(\"A multiplicação é:\", a * b)\n",
        "print(\"A divisão é:\", a / b)\n",
        "print(\"A divisão Exata é:\", a // b)\n",
        "print(\"A o Resto da divisão é:\", a % b)"
      ],
      "metadata": {
        "colab": {
          "base_uri": "https://localhost:8080/"
        },
        "id": "fdkG2EiiLPG9",
        "outputId": "2a87a4e1-a3c5-4751-d210-637e9ac2bef5"
      },
      "execution_count": null,
      "outputs": [
        {
          "output_type": "stream",
          "name": "stdout",
          "text": [
            "Digite um Valor inteiro:8\n",
            "Digite outro Valor inteiro:4\n",
            "A soma é: 12\n",
            "A subtração é: 4\n",
            "A multiplicação é: 32\n",
            "A divisão é: 2.0\n",
            "A divisão Exata é: 2\n",
            "A o Resto da divisão é: 0\n"
          ]
        }
      ]
    },
    {
      "cell_type": "markdown",
      "source": [
        "**Exercício de Prática Proposta - Aula 02negrito**\n",
        "\n",
        "Como sugestão de prática, indicamos você a criar um novo script python seguindo as orientações a seguir:\n",
        "\n",
        "Crie três inputs que receba os três dados abaixo:\n",
        "\n",
        "-Nome do tipo string\n",
        "\n",
        "-Altura do tipo Float\n",
        "\n",
        "-CPF do tipo inteiro\n",
        "\n",
        "Exiba através de um único print as três informações para o usuário."
      ],
      "metadata": {
        "id": "r6v9poAMNlXg"
      }
    },
    {
      "cell_type": "code",
      "source": [
        "#String\n",
        "nome = input(\"Digite o seu nome:\")\n",
        "\n",
        "#Float\n",
        "altura = float(input(\"Digite a sua Altura (m): \"))\n",
        "\n",
        "#Inteiro\n",
        "cpf = int(input(\"Digite o número do seu CPF:\"))\n",
        "\n",
        "print(\"O seu nome é:\", nome)\n",
        "print(\"Você tem\",altura,\"metros de altura.\")\n",
        "print(\"O seu número de CPF é:\", cpf)\n",
        "\n",
        "print(\"O seu nome é:\",nome,\".\",\"Você tem\",altura,\"metros de altura.\",\"O seu número de CPF é:\",cpf,\".\")"
      ],
      "metadata": {
        "colab": {
          "base_uri": "https://localhost:8080/"
        },
        "id": "dId0LqKSNqsc",
        "outputId": "6853f8b9-c592-4965-9052-22d49bc2b129"
      },
      "execution_count": null,
      "outputs": [
        {
          "output_type": "stream",
          "name": "stdout",
          "text": [
            "Digite o seu nome:Elias\n",
            "Digite a sua Altura (m): 1.75\n",
            "Digite o número do seu CPF:132465789\n",
            "O seu nome é: Elias\n",
            "Você tem 1.75 metros de altura.\n",
            "O seu número de CPF é: 132465789\n",
            "O seu nome é: Elias . Você tem 1.75 metros de altura. O seu número de CPF é: 132465789 .\n"
          ]
        }
      ]
    },
    {
      "cell_type": "markdown",
      "source": [
        "#**Aula 03 – Estruturas de Condição**\n",
        "**Operadores de relação e condição**"
      ],
      "metadata": {
        "id": "CuD7pMBDPXJO"
      }
    },
    {
      "cell_type": "code",
      "source": [
        "#Operadores de Igualdade\n",
        "# ==, !=\n",
        "\n",
        "#Recebe o valor na variável\n",
        "a = 2\n",
        "\n",
        "#Valor igual\n",
        "a == 2\n",
        "\n",
        "#Valor diferente\n",
        "a != 2\n",
        "\n",
        "#Operadores relacionais\n",
        "# <, >, <=, >=\n",
        "\n",
        "x < y\n",
        "x > y\n",
        "x <= y\n",
        "x >= y"
      ],
      "metadata": {
        "id": "Qlrj2VxsQK45"
      },
      "execution_count": null,
      "outputs": []
    },
    {
      "cell_type": "markdown",
      "source": [
        "**O comando If/Else/Elif**"
      ],
      "metadata": {
        "id": "Tkrum9y8VD-F"
      }
    },
    {
      "cell_type": "code",
      "source": [
        "numero = int(input(\"Digite um Número:\"))\n",
        "\n",
        "#Se for Verdadeiro (True) executa isso\n",
        "if numero == 10:\n",
        "  print(\"Este número é igual a 10!\")\n",
        "\n",
        "#Se for Falso (False) executa isso\n",
        "else:\n",
        "  print(\"O número digitado é diferente de 10! O número digitado foi:\", numero)"
      ],
      "metadata": {
        "colab": {
          "base_uri": "https://localhost:8080/"
        },
        "id": "mjwoq-YDVRQx",
        "outputId": "ec262441-0734-4bc9-fa0c-17493899d566"
      },
      "execution_count": null,
      "outputs": [
        {
          "output_type": "stream",
          "name": "stdout",
          "text": [
            "Digite um Número:50\n",
            "O número digitado é diferente de 10! O número digitado foi: 50\n"
          ]
        }
      ]
    },
    {
      "cell_type": "code",
      "source": [
        "numero = int(input(\"Digite um Número:\"))\n",
        "\n",
        "#Se for Verdadeiro (True) executa isso\n",
        "if numero == 10:\n",
        "  print(\"Este número é igual a 10!\")\n",
        "\n",
        "elif numero == 11:\n",
        "  print(\"Este número é igual a 11!\")\n",
        "\n",
        "elif numero == 12:\n",
        "  print(\"Este número é igual a 12!\")\n",
        "\n",
        "elif numero == 13:\n",
        "  print(\"Este número é igual a 13!\")\n",
        "\n",
        "elif numero == 14:\n",
        "  print(\"Este número é igual a 14!\")\n",
        "\n",
        "elif numero == 15:\n",
        "  print(\"Este número é igual a 11!\")\n",
        "\n",
        "#Se for Falso (False) executa isso\n",
        "else:\n",
        "  print(\"O número digitado não foi 10, 11, 12, 13, 14 e 15! O número digitado foi:\", numero)"
      ],
      "metadata": {
        "colab": {
          "base_uri": "https://localhost:8080/"
        },
        "id": "mzYDS3wWWawt",
        "outputId": "1775c6ab-95a5-4b20-f680-96cc1484d372"
      },
      "execution_count": null,
      "outputs": [
        {
          "output_type": "stream",
          "name": "stdout",
          "text": [
            "Digite um Número:80\n",
            "O número digitado não foi 10, 11, 12, 13, 14 e 15! O número digitado foi: 80\n"
          ]
        }
      ]
    },
    {
      "cell_type": "markdown",
      "source": [
        "**Exercício e Prática Proposta - Aula 03**\n",
        "\n",
        "Como sugestão de prática, indicamos você a criar um novo script python seguindo as orientações a seguir:\n",
        "\n",
        "Crie uma variável número e atribua o valor 15 a ela.\n",
        "Crie um comando de condição para verificar se ela é == a 15,\n",
        "Menor que 15, maior que 15.\n",
        "\n",
        "Informar através de print a informação para o usuário."
      ],
      "metadata": {
        "id": "-Ma31zztXP4V"
      }
    },
    {
      "cell_type": "code",
      "source": [
        "#numero = 15\n",
        "numero = int(input(\"Digite um Número:\"))\n",
        "\n",
        "#Se for Verdadeiro (True) executa isso\n",
        "if numero == 15:\n",
        "  print(\"Este número é igual a 15!\")\n",
        "\n",
        "elif numero < 15:\n",
        "  print(\"Este número é menor que 15!\")\n",
        "\n",
        "#Se for Falso (False) executa isso\n",
        "else:\n",
        "  print(\"O número digitado é maior que 15! O número digitado foi:\", numero)"
      ],
      "metadata": {
        "colab": {
          "base_uri": "https://localhost:8080/"
        },
        "id": "GdFV8u5IXU33",
        "outputId": "d6870424-62f5-4ef7-8c35-7f988648fa3b"
      },
      "execution_count": null,
      "outputs": [
        {
          "output_type": "stream",
          "name": "stdout",
          "text": [
            "Digite um Número:55\n",
            "O número digitado é maior que 15! O número digitado foi: 55\n"
          ]
        }
      ]
    },
    {
      "cell_type": "markdown",
      "source": [
        "#**Aula 04 – Estruturas de controle de fluxo**\n",
        "\n",
        "**Laço de repetição**"
      ],
      "metadata": {
        "id": "H6rcumdGFHcE"
      }
    },
    {
      "cell_type": "markdown",
      "source": [
        "**Laço: While**"
      ],
      "metadata": {
        "id": "5K_WTdEiFzXQ"
      }
    },
    {
      "cell_type": "code",
      "source": [
        "i = 0\n",
        "\n",
        "while (i <= 10):\n",
        "  print (\"O looping esta rodando...\")\n",
        "  print(i)\n",
        "\n",
        "  #É semelhante: i = i + 1\n",
        "  i +=1"
      ],
      "metadata": {
        "colab": {
          "base_uri": "https://localhost:8080/"
        },
        "id": "VojN6ZEIFM3Y",
        "outputId": "1291e410-42de-443b-9020-68a76bb653a8"
      },
      "execution_count": null,
      "outputs": [
        {
          "output_type": "stream",
          "name": "stdout",
          "text": [
            "O looping esta rodando...\n",
            "0\n",
            "O looping esta rodando...\n",
            "1\n",
            "O looping esta rodando...\n",
            "2\n",
            "O looping esta rodando...\n",
            "3\n",
            "O looping esta rodando...\n",
            "4\n",
            "O looping esta rodando...\n",
            "5\n",
            "O looping esta rodando...\n",
            "6\n",
            "O looping esta rodando...\n",
            "7\n",
            "O looping esta rodando...\n",
            "8\n",
            "O looping esta rodando...\n",
            "9\n",
            "O looping esta rodando...\n",
            "10\n"
          ]
        }
      ]
    },
    {
      "cell_type": "markdown",
      "source": [
        "**Laço: For**"
      ],
      "metadata": {
        "id": "oCsGsJK_Jvrb"
      }
    },
    {
      "cell_type": "code",
      "source": [
        "for i in \"Python\":\n",
        "  print(i)"
      ],
      "metadata": {
        "colab": {
          "base_uri": "https://localhost:8080/"
        },
        "id": "ozI6A6qTJ2Jl",
        "outputId": "533b7046-a103-487c-a0e5-2d20550bab3f"
      },
      "execution_count": null,
      "outputs": [
        {
          "output_type": "stream",
          "name": "stdout",
          "text": [
            "P\n",
            "y\n",
            "t\n",
            "h\n",
            "o\n",
            "n\n"
          ]
        }
      ]
    },
    {
      "cell_type": "code",
      "source": [
        "num = [1,3,7,22]\n",
        "\n",
        "print(num)"
      ],
      "metadata": {
        "colab": {
          "base_uri": "https://localhost:8080/"
        },
        "id": "Os80BL59K1y9",
        "outputId": "f00731f4-0c25-411b-e571-a2486c793bfb"
      },
      "execution_count": null,
      "outputs": [
        {
          "output_type": "stream",
          "name": "stdout",
          "text": [
            "[1, 3, 7, 22]\n"
          ]
        }
      ]
    },
    {
      "cell_type": "code",
      "source": [
        "num = [1,3,7,22]\n",
        "\n",
        "for j in num:\n",
        "  print(num)"
      ],
      "metadata": {
        "colab": {
          "base_uri": "https://localhost:8080/"
        },
        "id": "8Wcpmwc-LFf9",
        "outputId": "6b603f6f-c7af-4bda-ce9a-17feeed66a94"
      },
      "execution_count": null,
      "outputs": [
        {
          "output_type": "stream",
          "name": "stdout",
          "text": [
            "[1, 3, 7, 22]\n",
            "[1, 3, 7, 22]\n",
            "[1, 3, 7, 22]\n",
            "[1, 3, 7, 22]\n"
          ]
        }
      ]
    },
    {
      "cell_type": "code",
      "source": [
        "num = [1,3,7,22]\n",
        "\n",
        "for j in num:\n",
        "  print(j)"
      ],
      "metadata": {
        "colab": {
          "base_uri": "https://localhost:8080/"
        },
        "id": "es6kKnDELNhm",
        "outputId": "24a5cdb3-68f9-4bdf-b97b-0c4b2eb802b5"
      },
      "execution_count": null,
      "outputs": [
        {
          "output_type": "stream",
          "name": "stdout",
          "text": [
            "1\n",
            "3\n",
            "7\n",
            "22\n"
          ]
        }
      ]
    },
    {
      "cell_type": "markdown",
      "source": [
        "**Laço: For Range**"
      ],
      "metadata": {
        "id": "EzByhMZpLbQJ"
      }
    },
    {
      "cell_type": "code",
      "source": [
        "#Range é o tamanho daquilo que iremos testar, gerando valores aleatórios\n",
        "for i in range(10):\n",
        "  print(i)\n",
        "\n",
        "for i in range(10):\n",
        "  print(\"Olá Mundo!\")\n",
        "\n",
        "for i in range(10):\n",
        "  print(i + 1)\n"
      ],
      "metadata": {
        "colab": {
          "base_uri": "https://localhost:8080/"
        },
        "id": "vNOCX6_cLdsD",
        "outputId": "dcb4fba3-883c-475b-8b4b-007cc4699a20"
      },
      "execution_count": null,
      "outputs": [
        {
          "output_type": "stream",
          "name": "stdout",
          "text": [
            "0\n",
            "1\n",
            "2\n",
            "3\n",
            "4\n",
            "5\n",
            "6\n",
            "7\n",
            "8\n",
            "9\n",
            "Olá Mundo!\n",
            "Olá Mundo!\n",
            "Olá Mundo!\n",
            "Olá Mundo!\n",
            "Olá Mundo!\n",
            "Olá Mundo!\n",
            "Olá Mundo!\n",
            "Olá Mundo!\n",
            "Olá Mundo!\n",
            "Olá Mundo!\n",
            "1\n",
            "2\n",
            "3\n",
            "4\n",
            "5\n",
            "6\n",
            "7\n",
            "8\n",
            "9\n",
            "10\n"
          ]
        }
      ]
    },
    {
      "cell_type": "code",
      "source": [
        "for j in range (9, -1, -1):\n",
        "  print(j)"
      ],
      "metadata": {
        "colab": {
          "base_uri": "https://localhost:8080/"
        },
        "id": "xIkLh5_oMqxq",
        "outputId": "2f17bb15-a40a-4094-f853-973a13d29f33"
      },
      "execution_count": null,
      "outputs": [
        {
          "output_type": "stream",
          "name": "stdout",
          "text": [
            "9\n",
            "8\n",
            "7\n",
            "6\n",
            "5\n",
            "4\n",
            "3\n",
            "2\n",
            "1\n",
            "0\n"
          ]
        }
      ]
    },
    {
      "cell_type": "markdown",
      "source": [
        "**Exercício e Prática Proposta - Aula 04**\n",
        "\n",
        "Como sugestão de prática, indicamos você a criar um novo script python seguindo as orientações a seguir:\n",
        "\n",
        "Crie um laço com for in range que imprima os múltiplos de 3 no intervalo entre 0 e 15."
      ],
      "metadata": {
        "id": "N8S_9AjbM6Vp"
      }
    },
    {
      "cell_type": "code",
      "source": [
        "#De forma Crescente\n",
        "for i in range(0,15,3):\n",
        "  print(i)"
      ],
      "metadata": {
        "colab": {
          "base_uri": "https://localhost:8080/"
        },
        "id": "Gk4kKCnpNFbU",
        "outputId": "eb2e63e4-6634-401d-f821-1810c84a5a1b"
      },
      "execution_count": null,
      "outputs": [
        {
          "output_type": "stream",
          "name": "stdout",
          "text": [
            "0\n",
            "3\n",
            "6\n",
            "9\n",
            "12\n"
          ]
        }
      ]
    },
    {
      "cell_type": "code",
      "source": [
        "#De forma Crescente\n",
        "for i in range(0,18,3):\n",
        "  print(i)"
      ],
      "metadata": {
        "colab": {
          "base_uri": "https://localhost:8080/"
        },
        "id": "HlbdaO-sQ54r",
        "outputId": "5e933108-2de7-4213-eba4-9747f10d35f7"
      },
      "execution_count": null,
      "outputs": [
        {
          "output_type": "stream",
          "name": "stdout",
          "text": [
            "0\n",
            "3\n",
            "6\n",
            "9\n",
            "12\n",
            "15\n"
          ]
        }
      ]
    },
    {
      "cell_type": "code",
      "source": [
        "#De forma descrescente\n",
        "for i in range(15,0,-3):\n",
        "  print(i)"
      ],
      "metadata": {
        "colab": {
          "base_uri": "https://localhost:8080/"
        },
        "id": "tR9-Plz3Qlzi",
        "outputId": "b1636274-473a-4df8-ee26-9fb16c4c6096"
      },
      "execution_count": null,
      "outputs": [
        {
          "output_type": "stream",
          "name": "stdout",
          "text": [
            "15\n",
            "12\n",
            "9\n",
            "6\n",
            "3\n"
          ]
        }
      ]
    },
    {
      "cell_type": "markdown",
      "source": [
        "**Break e Continue**"
      ],
      "metadata": {
        "id": "jk2StX-ZSOpj"
      }
    },
    {
      "cell_type": "code",
      "source": [
        "#Break\n",
        "\n",
        "for i in range(15):\n",
        "  print(i)\n",
        "\n",
        "  if(i == 8):\n",
        "    break"
      ],
      "metadata": {
        "colab": {
          "base_uri": "https://localhost:8080/"
        },
        "id": "a68G8MkWSN9R",
        "outputId": "a72a3b3f-3bb1-4a32-c8f9-c58bc2f31f78"
      },
      "execution_count": null,
      "outputs": [
        {
          "output_type": "stream",
          "name": "stdout",
          "text": [
            "0\n",
            "1\n",
            "2\n",
            "3\n",
            "4\n",
            "5\n",
            "6\n",
            "7\n",
            "8\n"
          ]
        }
      ]
    },
    {
      "cell_type": "code",
      "source": [
        "#Continue\n",
        "\n",
        "i = 0\n",
        "\n",
        "while(i <= 10):\n",
        "  #print(i+1) //Fica em Looping infinito imprimindo 1\n",
        "  i += 1\n",
        "  if(i %2 == 0): #Divisão por número par\n",
        "    continue\n",
        "\n",
        "  print(i)"
      ],
      "metadata": {
        "colab": {
          "base_uri": "https://localhost:8080/"
        },
        "id": "qw1PsWruS14L",
        "outputId": "651ac9ac-0713-4a0a-c21e-c4ae20f9c07e"
      },
      "execution_count": null,
      "outputs": [
        {
          "output_type": "stream",
          "name": "stdout",
          "text": [
            "1\n",
            "3\n",
            "5\n",
            "7\n",
            "9\n",
            "11\n"
          ]
        }
      ]
    },
    {
      "cell_type": "markdown",
      "source": [
        "#**Aula 05 – Strings**\n",
        "\n",
        "**Introdução a Strings**"
      ],
      "metadata": {
        "id": "Bo8Wl-n7VFY3"
      }
    },
    {
      "cell_type": "code",
      "source": [
        "nome = 'Elias'\n",
        "type(nome)"
      ],
      "metadata": {
        "colab": {
          "base_uri": "https://localhost:8080/"
        },
        "id": "aXClCtiAVIY5",
        "outputId": "9b14dba8-4fe7-465f-c2ac-8d93d23bd04f"
      },
      "execution_count": null,
      "outputs": [
        {
          "output_type": "execute_result",
          "data": {
            "text/plain": [
              "str"
            ]
          },
          "metadata": {},
          "execution_count": 69
        }
      ]
    },
    {
      "cell_type": "code",
      "source": [
        "nome = 'Elias'\n",
        "nome1 = \"Elias\"\n",
        "\n",
        "nome2 = '''\n",
        "Esta é uma String longa\n",
        "contendo informações sobre Python\n",
        "'''\n",
        "nome3 = \"\"\"\n",
        "Esta é uma String longa\n",
        "contendo informações sobre Python\n",
        "\"\"\"\n",
        "\n",
        "print(nome)\n",
        "print(nome1)\n",
        "print(nome2)\n",
        "print(nome3)"
      ],
      "metadata": {
        "colab": {
          "base_uri": "https://localhost:8080/"
        },
        "id": "n8PnzWMIVucC",
        "outputId": "020427fd-c324-4809-efef-7e42bcf230fa"
      },
      "execution_count": null,
      "outputs": [
        {
          "output_type": "stream",
          "name": "stdout",
          "text": [
            "Elias\n",
            "Elias\n",
            "\n",
            "Esta é uma String longa\n",
            "contendo informações sobre Python\n",
            "\n",
            "\n",
            "Esta é uma String longa\n",
            "contendo informações sobre Python\n",
            "\n"
          ]
        }
      ]
    },
    {
      "cell_type": "markdown",
      "source": [
        "**Propriedades das Strings**"
      ],
      "metadata": {
        "id": "r1JmilCvWwQY"
      }
    },
    {
      "cell_type": "code",
      "source": [
        "l = 'lista de letras'\n",
        "data = '15/09/2023'\n",
        "\n",
        "#Tamanho da String\n",
        "tamanho = len(l)\n",
        "print(tamanho)\n",
        "\n",
        "#Split da String\n",
        "lista = l.split(\" \")\n",
        "print(lista)\n",
        "\n",
        "lista1 = data.split(\"/\")\n",
        "print(lista1)\n",
        "\n",
        "#Substituição\n",
        "print(l.replace(\"de\",\"*\"))"
      ],
      "metadata": {
        "colab": {
          "base_uri": "https://localhost:8080/"
        },
        "id": "zK7hsRvYWxsw",
        "outputId": "57163dae-4a87-4a7a-b7a1-ccc791a02135"
      },
      "execution_count": null,
      "outputs": [
        {
          "output_type": "stream",
          "name": "stdout",
          "text": [
            "15\n",
            "['lista', 'de', 'letras']\n",
            "['15', '09', '2023']\n",
            "lista * letras\n"
          ]
        }
      ]
    },
    {
      "cell_type": "markdown",
      "source": [
        "**Fatiando Strings**"
      ],
      "metadata": {
        "id": "S9A4AYkHY0hq"
      }
    },
    {
      "cell_type": "code",
      "source": [
        "#       012345\n",
        "nome = 'Python'\n",
        "nova_string = nome[0]\n",
        "print(nova_string)"
      ],
      "metadata": {
        "colab": {
          "base_uri": "https://localhost:8080/"
        },
        "id": "AaZy8JGnY4nD",
        "outputId": "d44c509e-46b6-4e4b-c010-e05f9a8890ed"
      },
      "execution_count": null,
      "outputs": [
        {
          "output_type": "stream",
          "name": "stdout",
          "text": [
            "P\n"
          ]
        }
      ]
    },
    {
      "cell_type": "code",
      "source": [
        "#       012345\n",
        "nome = 'Python'\n",
        "nova_string = nome[5]\n",
        "print(nova_string)"
      ],
      "metadata": {
        "colab": {
          "base_uri": "https://localhost:8080/"
        },
        "id": "gkSSabMmbmF9",
        "outputId": "d0a6e579-564f-4aed-d3f5-0c5e64fd7b10"
      },
      "execution_count": null,
      "outputs": [
        {
          "output_type": "stream",
          "name": "stdout",
          "text": [
            "n\n"
          ]
        }
      ]
    },
    {
      "cell_type": "code",
      "source": [
        "#       012345\n",
        "nome = 'Python'\n",
        "nova_string = nome[1:3]\n",
        "print(nova_string)"
      ],
      "metadata": {
        "colab": {
          "base_uri": "https://localhost:8080/"
        },
        "id": "cum93duFbokW",
        "outputId": "c554c5f4-15c4-4175-d7be-504cc3b8c421"
      },
      "execution_count": null,
      "outputs": [
        {
          "output_type": "stream",
          "name": "stdout",
          "text": [
            "yt\n"
          ]
        }
      ]
    },
    {
      "cell_type": "code",
      "source": [
        "#       012345\n",
        "nome = 'Python'\n",
        "nova_string = nome[1:3:5]\n",
        "print(nova_string)"
      ],
      "metadata": {
        "colab": {
          "base_uri": "https://localhost:8080/"
        },
        "id": "2MR_XjdYb1cn",
        "outputId": "0cdb356e-40b4-40c0-c60e-fd2c5ef71d4c"
      },
      "execution_count": null,
      "outputs": [
        {
          "output_type": "stream",
          "name": "stdout",
          "text": [
            "y\n"
          ]
        }
      ]
    },
    {
      "cell_type": "code",
      "source": [
        "#       012345\n",
        "#      -6-5-4-3-2-1\n",
        "nome = 'Python'\n",
        "nova_string = nome[-1]\n",
        "print(nova_string)"
      ],
      "metadata": {
        "colab": {
          "base_uri": "https://localhost:8080/"
        },
        "id": "c3GMmmvccM8t",
        "outputId": "7520d150-5ac9-40be-c75a-8df379f69389"
      },
      "execution_count": null,
      "outputs": [
        {
          "output_type": "stream",
          "name": "stdout",
          "text": [
            "n\n"
          ]
        }
      ]
    },
    {
      "cell_type": "markdown",
      "source": [
        "**Comparando Strings**"
      ],
      "metadata": {
        "id": "OKAhSqbbcttY"
      }
    },
    {
      "cell_type": "code",
      "source": [
        "print(\"a\" == \"b\")\n",
        "print(\"b\" != \"a\")\n",
        "print(\"a\" > \"x\")\n",
        "print(\"x\" > \"1\")"
      ],
      "metadata": {
        "colab": {
          "base_uri": "https://localhost:8080/"
        },
        "id": "qXspXeVjcvJh",
        "outputId": "573dc62e-edda-4bfd-f297-54026e600219"
      },
      "execution_count": null,
      "outputs": [
        {
          "output_type": "stream",
          "name": "stdout",
          "text": [
            "False\n",
            "True\n",
            "False\n",
            "True\n"
          ]
        }
      ]
    },
    {
      "cell_type": "code",
      "source": [
        "for i in range(20):\n",
        "  print(str(i)+ \"-\"+ chr(i))\n"
      ],
      "metadata": {
        "colab": {
          "base_uri": "https://localhost:8080/"
        },
        "id": "uHFAchZLdi2m",
        "outputId": "9678bddc-5d15-4a19-f633-fe6ced01a314"
      },
      "execution_count": null,
      "outputs": [
        {
          "output_type": "stream",
          "name": "stdout",
          "text": [
            "0-\u0000\n",
            "1-\u0001\n",
            "2-\u0002\n",
            "3-\u0003\n",
            "4-\u0004\n",
            "5-\u0005\n",
            "6-\u0006\n",
            "7-\u0007\n",
            "8-\b\n",
            "9-\t\n",
            "10-\n",
            "\n",
            "11-\u000b\n",
            "12-\f\n",
            "13-\r\n",
            "14-\u000e\n",
            "15-\u000f\n",
            "16-\u0010\n",
            "17-\u0011\n",
            "18-\u0012\n",
            "19-\u0013\n"
          ]
        }
      ]
    },
    {
      "cell_type": "markdown",
      "source": [
        "**Percorrendo Strings**"
      ],
      "metadata": {
        "id": "ssS091h5k8Tc"
      }
    },
    {
      "cell_type": "code",
      "source": [
        "nome = 'Phyton'\n",
        "\n",
        "#for\n",
        "for i in nome:\n",
        "  print(i)\n",
        "\n",
        "#while\n",
        "\n",
        "i = 0\n",
        "\n",
        "print(\"* --------------- *\")\n",
        "while i < len(nome):\n",
        "  print(nome[i]) #[1] Laço Enquanto: Percorre toda frase na sua posição, a cada etapa retorna uma letra [1]\n",
        "  i += 1\n",
        "\n",
        "\n",
        "print(\"* --------------- *\")\n",
        "#for/enumerate\n",
        "for k,v in enumerate(nome):\n",
        "  print(k,v)"
      ],
      "metadata": {
        "colab": {
          "base_uri": "https://localhost:8080/"
        },
        "id": "JiXv7XuBlQCM",
        "outputId": "7de3bf05-e307-43d8-dbfe-a09a6aef7297"
      },
      "execution_count": null,
      "outputs": [
        {
          "output_type": "stream",
          "name": "stdout",
          "text": [
            "P\n",
            "h\n",
            "y\n",
            "t\n",
            "o\n",
            "n\n",
            "* --------------- *\n",
            "P\n",
            "h\n",
            "y\n",
            "t\n",
            "o\n",
            "n\n",
            "* --------------- *\n",
            "0 P\n",
            "1 h\n",
            "2 y\n",
            "3 t\n",
            "4 o\n",
            "5 n\n"
          ]
        }
      ]
    },
    {
      "cell_type": "markdown",
      "source": [
        "**Exercício e Prática Proposta - Aula 05**\n",
        "\n",
        "Como sugestão de prática, indicamos você a criar um novo script python seguindo as orientações a seguir:\n",
        "\n",
        "Crie uma string contendo o alfabeto com letras maiúsculas separado por espaços.\n",
        "Percorra e imprima essa string com enumerate.\n",
        "Substitua os espaços por traço. “-” e imprima para o usuário."
      ],
      "metadata": {
        "id": "nMod1kfent9X"
      }
    },
    {
      "cell_type": "code",
      "source": [
        "alfabeto = \"A B C D E F G H I J K L M N O P Q R S T U V X W Y Z\"\n",
        "\n",
        "for k,v in enumerate(alfabeto):\n",
        "  print(k,v)\n",
        "\n",
        "  #print(alfabeto.replace(\" \",\"-\")) // Irá replicar por 52 vezes o alfabeto fazendo a substituição do espaço \" \" por \"-\"\n",
        "\n",
        "print(alfabeto.replace(\" \",\"-\"))"
      ],
      "metadata": {
        "colab": {
          "base_uri": "https://localhost:8080/"
        },
        "id": "4fNri-bknzy4",
        "outputId": "35c4cd3b-3b9f-46d8-fb0a-dc64cc414671"
      },
      "execution_count": null,
      "outputs": [
        {
          "output_type": "stream",
          "name": "stdout",
          "text": [
            "0 A\n",
            "1  \n",
            "2 B\n",
            "3  \n",
            "4 C\n",
            "5  \n",
            "6 D\n",
            "7  \n",
            "8 E\n",
            "9  \n",
            "10 F\n",
            "11  \n",
            "12 G\n",
            "13  \n",
            "14 H\n",
            "15  \n",
            "16 I\n",
            "17  \n",
            "18 J\n",
            "19  \n",
            "20 K\n",
            "21  \n",
            "22 L\n",
            "23  \n",
            "24 M\n",
            "25  \n",
            "26 N\n",
            "27  \n",
            "28 O\n",
            "29  \n",
            "30 P\n",
            "31  \n",
            "32 Q\n",
            "33  \n",
            "34 R\n",
            "35  \n",
            "36 S\n",
            "37  \n",
            "38 T\n",
            "39  \n",
            "40 U\n",
            "41  \n",
            "42 V\n",
            "43  \n",
            "44 X\n",
            "45  \n",
            "46 W\n",
            "47  \n",
            "48 Y\n",
            "49  \n",
            "50 Z\n",
            "A-B-C-D-E-F-G-H-I-J-K-L-M-N-O-P-Q-R-S-T-U-V-X-W-Y-Z\n"
          ]
        }
      ]
    },
    {
      "cell_type": "markdown",
      "source": [
        "#**Aula 06 – Estrutura de Listas**\n",
        "\n",
        "**Listas**"
      ],
      "metadata": {
        "id": "V_qFioKXTk0-"
      }
    },
    {
      "cell_type": "code",
      "source": [
        "#Lista de Strings\n",
        "nome = \"Python\"\n",
        "\n",
        "#Lista entre Colchetes\n",
        "# 0, 1, 2, 3 .....n (Posições)\n",
        "lista = [0,1,2,3,4,5] #Inteiros\n",
        "lista1 = [0.8, 1.5, 2.4, 3.8] #Float\n",
        "lista2 = [1, 2.8, \"número\"] #Lista variável\n",
        "lista3 = [] #Lista vazia que serve para pegar a informação de forma aleatória\n",
        "\n",
        "print(lista[0])\n",
        "print(lista1[3])\n",
        "print(lista2[2])"
      ],
      "metadata": {
        "colab": {
          "base_uri": "https://localhost:8080/"
        },
        "id": "vg9Ryv8STs2x",
        "outputId": "3448fa6c-abf9-4dd8-edd9-8a32d0bfb4f6"
      },
      "execution_count": null,
      "outputs": [
        {
          "output_type": "stream",
          "name": "stdout",
          "text": [
            "0\n",
            "3.8\n",
            "número\n"
          ]
        }
      ]
    },
    {
      "cell_type": "code",
      "source": [
        "#Percorrendo listas\n",
        "\n",
        "lista = [100, 200, 300, 400, 500, 600, 700, 800]\n",
        "\n",
        "for i in range(len(lista)):\n",
        "  print(lista[i])\n",
        "\n",
        "print(lista)"
      ],
      "metadata": {
        "colab": {
          "base_uri": "https://localhost:8080/"
        },
        "id": "YfuNrHv8WfgP",
        "outputId": "8714228e-1713-466a-d2fe-0c3fff302b1b"
      },
      "execution_count": null,
      "outputs": [
        {
          "output_type": "stream",
          "name": "stdout",
          "text": [
            "100\n",
            "200\n",
            "300\n",
            "400\n",
            "500\n",
            "600\n",
            "700\n",
            "800\n",
            "[100, 200, 300, 400, 500, 600, 700, 800]\n"
          ]
        }
      ]
    },
    {
      "cell_type": "code",
      "source": [
        "#Fatiando listas\n",
        "\n",
        "#       0, 1, 2\n",
        "lista = 2, 5, 9\n",
        "#      -3 -2 -1\n",
        "\n",
        "nova_lista = lista[0]\n",
        "print(nova_lista)\n",
        "\n",
        "nova_lista1 = lista[0:2]\n",
        "print(nova_lista1)\n",
        "\n",
        "nova_lista2 = lista[0:2:2]\n",
        "print(nova_lista2)\n",
        "\n",
        "lista1 = ['p','y','t','h','o','n']\n",
        "novalista1 = lista1[::-1]\n",
        "print(novalista1)"
      ],
      "metadata": {
        "colab": {
          "base_uri": "https://localhost:8080/"
        },
        "id": "wfAOhcs8XV0c",
        "outputId": "9eb0517b-ecae-4b4e-b7b8-40c7d848cb54"
      },
      "execution_count": null,
      "outputs": [
        {
          "output_type": "stream",
          "name": "stdout",
          "text": [
            "2\n",
            "(2, 5)\n",
            "(2,)\n",
            "['n', 'o', 'h', 't', 'y', 'p']\n"
          ]
        }
      ]
    },
    {
      "cell_type": "markdown",
      "source": [
        "**Exercício e Prática Proposta - Aula 06**\n",
        "\n",
        "Como sugestão de prática, indicamos você a criar um novo script python seguindo as orientações a seguir:\n",
        "\n",
        "Crie uma lista abaixo com a seguinte palavra:\n",
        "“PYTHON”\n",
        "\n",
        "A lista deve conter as letras separadas e em maiúsculas.\n",
        "Crie uma nova lista somente com as três últimas letras da palavra “PYTHON”."
      ],
      "metadata": {
        "id": "NqJxcCgNdREc"
      }
    },
    {
      "cell_type": "code",
      "source": [
        "lista = [\"P\", \"H\", \"Y\", \"T\", \"O\" ,\"N\"]\n",
        "listanova = lista[3:6]\n",
        "\n",
        "print(listanova)"
      ],
      "metadata": {
        "colab": {
          "base_uri": "https://localhost:8080/"
        },
        "id": "CZjXvHfQdVtH",
        "outputId": "aa623066-f97c-44cd-8970-9c169e9cc317"
      },
      "execution_count": null,
      "outputs": [
        {
          "output_type": "stream",
          "name": "stdout",
          "text": [
            "['T', 'O', 'N']\n"
          ]
        }
      ]
    },
    {
      "cell_type": "markdown",
      "source": [
        "**Incluir, alterar, excluir elemento de listas**"
      ],
      "metadata": {
        "id": "ZhIRqdRohxlC"
      }
    },
    {
      "cell_type": "code",
      "source": [
        "animais = ['Gato', 'Cachorro', 'Elefante']\n",
        "print(animais)\n",
        "\n",
        "#Adicionar na lista: append\n",
        "animais.append(\"Galinha\")\n",
        "print(animais)\n",
        "\n",
        "#Para adicionar em uma certa posição: insert\n",
        "animais.insert(0, \"Papagaio\")\n",
        "print(animais)\n",
        "\n",
        "#Para remover um item de uma posição: pop\n",
        "animais.pop(2)\n",
        "print(animais)\n",
        "\n",
        "#Para remover um Item pelo nome: Remove\n",
        "animais.remove(\"Gato\")\n",
        "print(animais)"
      ],
      "metadata": {
        "colab": {
          "base_uri": "https://localhost:8080/"
        },
        "id": "KLeOViWtiCJw",
        "outputId": "4481c09d-47ac-4bbc-bb5a-6f969adabe6f"
      },
      "execution_count": null,
      "outputs": [
        {
          "output_type": "stream",
          "name": "stdout",
          "text": [
            "['Gato', 'Cachorro', 'Elefante']\n",
            "['Gato', 'Cachorro', 'Elefante', 'Galinha']\n",
            "['Papagaio', 'Gato', 'Cachorro', 'Elefante', 'Galinha']\n",
            "['Papagaio', 'Gato', 'Elefante', 'Galinha']\n",
            "['Papagaio', 'Elefante', 'Galinha']\n"
          ]
        }
      ]
    },
    {
      "cell_type": "markdown",
      "source": [
        "**Ordenar listas**"
      ],
      "metadata": {
        "id": "hKZ9S73PoD9K"
      }
    },
    {
      "cell_type": "code",
      "source": [
        "lista = ['a', 'x', 's', 'w', 'd', 'a', 'n', 'a']\n",
        "\n",
        "#Iremos ordenar ao contrário usando reverse\n",
        "lista.reverse()\n",
        "print(lista)"
      ],
      "metadata": {
        "colab": {
          "base_uri": "https://localhost:8080/"
        },
        "id": "5DuaTUuToG6Y",
        "outputId": "2b35a40d-437c-4c4e-c83b-405f7df81e11"
      },
      "execution_count": null,
      "outputs": [
        {
          "output_type": "stream",
          "name": "stdout",
          "text": [
            "['a', 'n', 'a', 'd', 'w', 's', 'x', 'a']\n"
          ]
        }
      ]
    },
    {
      "cell_type": "code",
      "source": [
        "lista = ['a', 'x', 's', 'w', 'd', 'a', 'n', 'a']\n",
        "\n",
        "#Iremos ordenar por ordem alfabética usando sort\n",
        "lista.sort()\n",
        "print(lista)\n",
        "\n",
        "#Faz a impressão uma Letra abaixo da outra em ordem alfabética\n",
        "for i in range(len(lista)):\n",
        "  print(lista[i]) #Tem que fazer list[i]\n",
        "\n",
        "print(\"* --------------- * \")\n",
        "l = lista.count(\"a\")\n",
        "print(l)"
      ],
      "metadata": {
        "colab": {
          "base_uri": "https://localhost:8080/"
        },
        "id": "OInjgQP8pnGO",
        "outputId": "6f94dacf-ee6e-4a72-b640-a81ccda41d0b"
      },
      "execution_count": null,
      "outputs": [
        {
          "output_type": "stream",
          "name": "stdout",
          "text": [
            "['a', 'a', 'a', 'd', 'n', 's', 'w', 'x']\n",
            "a\n",
            "a\n",
            "a\n",
            "d\n",
            "n\n",
            "s\n",
            "w\n",
            "x\n",
            "* --------------- * \n",
            "3\n"
          ]
        }
      ]
    },
    {
      "cell_type": "markdown",
      "source": [
        "**Exercício e Prática Proposta - Aula 06**\n",
        "\n",
        "Como sugestão de prática, indicamos você a criar um novo script python seguindo as orientações a seguir:\n",
        "\n",
        "Crie uma lista de móveis de uma casa;\n",
        "\n",
        "Adicione um elemento no final da lista;\n",
        "\n",
        "Remova um elemento pelo seu índice."
      ],
      "metadata": {
        "id": "HcOkwpAtq8_X"
      }
    },
    {
      "cell_type": "code",
      "source": [
        "lista = [\"Geladeira\", \"Fogão\", \"Mesa\", \"Sofá\", \"Televisão\", \"Guarda-Roupa\"]\n",
        "\n",
        "lista.append(\"Cama\")\n",
        "print(lista)\n",
        "\n",
        "lista.pop(0)\n",
        "print(lista)\n",
        "\n",
        "lista.remove(\"Mesa\")\n",
        "print(lista)"
      ],
      "metadata": {
        "colab": {
          "base_uri": "https://localhost:8080/"
        },
        "id": "R4PcQAkYu9He",
        "outputId": "d1666806-fe6f-4085-d3d7-372336831df2"
      },
      "execution_count": null,
      "outputs": [
        {
          "output_type": "stream",
          "name": "stdout",
          "text": [
            "['Geladeira', 'Fogão', 'Mesa', 'Sofá', 'Televisão', 'Guarda-Roupa', 'Cama']\n",
            "['Fogão', 'Mesa', 'Sofá', 'Televisão', 'Guarda-Roupa', 'Cama']\n",
            "['Fogão', 'Sofá', 'Televisão', 'Guarda-Roupa', 'Cama']\n"
          ]
        }
      ]
    },
    {
      "cell_type": "markdown",
      "source": [
        "#**Aula 07 – Estrutura de Tuplas**\n",
        "\n",
        "**Tuplas**"
      ],
      "metadata": {
        "id": "44i6qnA2w48V"
      }
    },
    {
      "cell_type": "code",
      "source": [
        "#Tuplas\n",
        "t = tuple(\"abc\")\n",
        "y = ('Phyton', 'Curso')\n",
        "x = (2,3,4)\n",
        "x1 = (0.5, 1.3, 2.4, 3.7)\n",
        "x2 = (\"Phyton\", 1, 2.8, True)\n",
        "\n",
        "print(t)\n",
        "print(y)\n",
        "print(x)\n",
        "print(x1)\n",
        "print(x2)\n",
        "\n",
        "print(\"* ------------ *\")\n",
        "print(type(x2))"
      ],
      "metadata": {
        "colab": {
          "base_uri": "https://localhost:8080/"
        },
        "id": "98JQawGDxDYa",
        "outputId": "b90ed59b-f15b-4a8c-9381-5aa55fa365cd"
      },
      "execution_count": null,
      "outputs": [
        {
          "output_type": "stream",
          "name": "stdout",
          "text": [
            "('a', 'b', 'c')\n",
            "('Phyton', 'Curso')\n",
            "(2, 3, 4)\n",
            "(0.5, 1.3, 2.4, 3.7)\n",
            "('Phyton', 1, 2.8, True)\n",
            "* ------------ *\n",
            "<class 'tuple'>\n"
          ]
        }
      ]
    },
    {
      "cell_type": "markdown",
      "source": [
        "**Operações com tuplas**"
      ],
      "metadata": {
        "id": "wRDNDzND03q9"
      }
    },
    {
      "cell_type": "code",
      "source": [
        "elementos_tupla = ('São Paulo', 'Belo Horizonte', 'Rio de Janeiro', 'Manaus')\n",
        "\n",
        "print(\"Fortaleza\" in elementos_tupla)\n",
        "print(\"Manaus\" in elementos_tupla)\n",
        "\n",
        "#                0       1       2       3       4          5       6\n",
        "nomes_tupla = (\"José\", \"Pedro\", \"Maria\", \"Luis\", \"André\", \"Maria\", \"Ana\")\n",
        "\n",
        "#Quantas vezes aparece o nome: count\n",
        "print(nomes_tupla.count('Pedro'))\n",
        "print(nomes_tupla.count(\"Maria\"))\n",
        "\n",
        "#Em que posição esta o nome: index\n",
        "print(nomes_tupla.index(\"André\"))\n",
        "\n"
      ],
      "metadata": {
        "colab": {
          "base_uri": "https://localhost:8080/"
        },
        "id": "BnIvVSRB05_8",
        "outputId": "b39f5c3b-68d5-464a-9e20-10d283d20f9c"
      },
      "execution_count": null,
      "outputs": [
        {
          "output_type": "stream",
          "name": "stdout",
          "text": [
            "False\n",
            "True\n",
            "1\n",
            "2\n",
            "4\n"
          ]
        }
      ]
    },
    {
      "cell_type": "markdown",
      "source": [
        "#**Aula 08 – Estrutura de Dicionários**\n",
        "\n",
        "**Dicionários**"
      ],
      "metadata": {
        "id": "0OSTHIfj3tvS"
      }
    },
    {
      "cell_type": "code",
      "source": [
        "dicionario = {\"a\": \"amor\", \"b\": \"blue\"}\n",
        "dicionario1 = {1:20, 2: 30, 3:40}\n",
        "dicionario2 = {5.5:50.50, 30.1:30.25}\n",
        "dicionario3 = {(10,20):[\"Phyton\", \"linguagem\", 10]}\n",
        "\n",
        "print(dicionario)\n",
        "print(type(dicionario))"
      ],
      "metadata": {
        "colab": {
          "base_uri": "https://localhost:8080/"
        },
        "id": "2RrxbuUT340I",
        "outputId": "22318dba-c570-4325-9601-c2cb8adcf86a"
      },
      "execution_count": null,
      "outputs": [
        {
          "output_type": "stream",
          "name": "stdout",
          "text": [
            "{'a': 'amor', 'b': 'blue'}\n",
            "<class 'dict'>\n"
          ]
        }
      ]
    },
    {
      "cell_type": "markdown",
      "source": [
        "**Acessando dicionários**"
      ],
      "metadata": {
        "id": "G7iwcqVY5iwx"
      }
    },
    {
      "cell_type": "code",
      "source": [
        "dicionario = {\"a\": \"LetraA\", \"b\": \"LetraB\", \"c\":\"LetraC\"}\n",
        "\n",
        "print(dicionario[\"a\"])\n",
        "print(dicionario.get('c', 'Valor não encontrado!'))\n",
        "print(dicionario.get('d', 'Valor não encontrado!'))"
      ],
      "metadata": {
        "colab": {
          "base_uri": "https://localhost:8080/"
        },
        "id": "hPrGUTe65lxg",
        "outputId": "e7fcda38-8837-43f9-e9ed-3259a3b83587"
      },
      "execution_count": null,
      "outputs": [
        {
          "output_type": "stream",
          "name": "stdout",
          "text": [
            "LetraA\n",
            "LetraC\n",
            "Valor não encontrado!\n"
          ]
        }
      ]
    },
    {
      "cell_type": "markdown",
      "source": [
        "**Funções com dicionários**"
      ],
      "metadata": {
        "id": "HMUNOpRL6tPT"
      }
    },
    {
      "cell_type": "code",
      "source": [
        "agenda = {40408021:\"José\", 87541236:\"Heloise\", 78945612:\"Carlos\",39125846:\"Claudio\"}\n",
        "print(agenda)\n",
        "\n",
        "del(agenda[40408021])\n",
        "print(agenda)\n",
        "\n",
        "print(\"* --------------- *\")\n",
        "print(agenda.keys()) #Mostra as chave\n",
        "print(agenda.values()) #Mostra somente os valores\n",
        "\n",
        "print(\"* --------------- *\")\n",
        "print(agenda.popitem()) #Mostra qual o item esta sendo removido\n",
        "print(agenda.popitem())\n",
        "\n",
        "print(agenda)"
      ],
      "metadata": {
        "colab": {
          "base_uri": "https://localhost:8080/"
        },
        "id": "XEg7NLLk6xFV",
        "outputId": "070085c5-eb44-4524-eea4-044ef08387b4"
      },
      "execution_count": null,
      "outputs": [
        {
          "output_type": "stream",
          "name": "stdout",
          "text": [
            "{40408021: 'José', 87541236: 'Heloise', 78945612: 'Carlos', 39125846: 'Claudio'}\n",
            "{87541236: 'Heloise', 78945612: 'Carlos', 39125846: 'Claudio'}\n",
            "* --------------- *\n",
            "dict_keys([87541236, 78945612, 39125846])\n",
            "dict_values(['Heloise', 'Carlos', 'Claudio'])\n",
            "* --------------- *\n",
            "(39125846, 'Claudio')\n",
            "(78945612, 'Carlos')\n",
            "{87541236: 'Heloise'}\n"
          ]
        }
      ]
    },
    {
      "cell_type": "markdown",
      "source": [
        "**Exercício e Prática Proposta - Aula 08**\n",
        "\n",
        "Como sugestão de prática, indicamos você a criar um novo script python seguindo as orientações a seguir:\n",
        "\n",
        "Crie um dicionário contendo dias da semana sendo dia1, dia2, dia3... as chaves e o dia seu valor. Ex: “dia1”: “domingo”.\n",
        "\n",
        "Remova dois dos últimos dias da semana.\n",
        "\n",
        "Remova segunda-feira pela sua chave.\n",
        "\n",
        "Imprima chaves e valores do dicionário.\n",
        "\n",
        "Imprima o dicionário final."
      ],
      "metadata": {
        "id": "uT_c0NYbAa4F"
      }
    },
    {
      "cell_type": "code",
      "source": [
        "dias_da_semana = {\"dia1\":\"Domingo\",\"dia2\":\"Segunda\", \"dia3\":\"Terça\",\"dia4\":\"Quarta\",\"dia5\":\"Quinta\",\"dia6\":\"Sexta\",\"dia7\":\"Sábado\"}\n",
        "\n",
        "print(dias_da_semana)\n",
        "\n",
        "print(\"* -------------- *\")\n",
        "#Podemos remover desta forma\n",
        "#del(dias_da_semana[\"dia6\"])\n",
        "#del(dias_da_semana[\"dia7\"])\n",
        "#print(dias_da_semana)\n",
        "\n",
        "#Podemos remover desta forma também\n",
        "dias_da_semana.popitem()\n",
        "dias_da_semana.popitem()\n",
        "print(dias_da_semana)\n",
        "\n",
        "print(\"* -------------- *\")\n",
        "del(dias_da_semana[\"dia2\"])\n",
        "print(dias_da_semana)\n",
        "\n",
        "print(\"* -------------- *\")\n",
        "print(dias_da_semana.keys())\n",
        "print(dias_da_semana.values())\n",
        "print(dias_da_semana)"
      ],
      "metadata": {
        "colab": {
          "base_uri": "https://localhost:8080/"
        },
        "id": "E3A-xcL4AilV",
        "outputId": "5e314b4e-c04e-4372-cd69-5cd3801e48b9"
      },
      "execution_count": null,
      "outputs": [
        {
          "output_type": "stream",
          "name": "stdout",
          "text": [
            "{'dia1': 'Domingo', 'dia2': 'Segunda', 'dia3': 'Terça', 'dia4': 'Quarta', 'dia5': 'Quinta', 'dia6': 'Sexta', 'dia7': 'Sábado'}\n",
            "* -------------- *\n",
            "{'dia1': 'Domingo', 'dia2': 'Segunda', 'dia3': 'Terça', 'dia4': 'Quarta', 'dia5': 'Quinta'}\n",
            "* -------------- *\n",
            "{'dia1': 'Domingo', 'dia3': 'Terça', 'dia4': 'Quarta', 'dia5': 'Quinta'}\n",
            "* -------------- *\n",
            "dict_keys(['dia1', 'dia3', 'dia4', 'dia5'])\n",
            "dict_values(['Domingo', 'Terça', 'Quarta', 'Quinta'])\n",
            "{'dia1': 'Domingo', 'dia3': 'Terça', 'dia4': 'Quarta', 'dia5': 'Quinta'}\n"
          ]
        }
      ]
    },
    {
      "cell_type": "markdown",
      "source": [
        "#**Aula 09 – Funções**\n",
        "\n",
        "**Introdução a funções**"
      ],
      "metadata": {
        "id": "rlPhycQTGPGX"
      }
    },
    {
      "cell_type": "code",
      "source": [
        "def funcao():\n",
        "  print(\"Esta é uma função!\")\n",
        "\n",
        "funcao()"
      ],
      "metadata": {
        "colab": {
          "base_uri": "https://localhost:8080/"
        },
        "id": "wsUQ4soaGWWe",
        "outputId": "09d1e4fe-b0b8-4a16-d19b-641365528b5a"
      },
      "execution_count": null,
      "outputs": [
        {
          "output_type": "stream",
          "name": "stdout",
          "text": [
            "Esta é uma função!\n"
          ]
        }
      ]
    },
    {
      "cell_type": "markdown",
      "source": [
        "**Parâmetro de funções**"
      ],
      "metadata": {
        "id": "xZDeXObUHPoX"
      }
    },
    {
      "cell_type": "code",
      "source": [
        "def soma(x,y):\n",
        "  total = x + y\n",
        "  print(total)\n",
        "\n",
        "soma(2,4)"
      ],
      "metadata": {
        "colab": {
          "base_uri": "https://localhost:8080/"
        },
        "id": "wkhR2LqDHUrs",
        "outputId": "b05dc5a6-97f8-4071-9eb0-341801392fb1"
      },
      "execution_count": null,
      "outputs": [
        {
          "output_type": "stream",
          "name": "stdout",
          "text": [
            "6\n"
          ]
        }
      ]
    },
    {
      "cell_type": "markdown",
      "source": [
        "**Retorno de valores**"
      ],
      "metadata": {
        "id": "pjm_ftSqIKCK"
      }
    },
    {
      "cell_type": "code",
      "source": [
        "def show():\n",
        "  return 15\n",
        "\n",
        "print(show())"
      ],
      "metadata": {
        "colab": {
          "base_uri": "https://localhost:8080/"
        },
        "id": "kDd_0ccBIOWB",
        "outputId": "738e1acf-e774-4b65-9148-7c4ed9e5ae78"
      },
      "execution_count": null,
      "outputs": [
        {
          "output_type": "stream",
          "name": "stdout",
          "text": [
            "15\n"
          ]
        }
      ]
    },
    {
      "cell_type": "code",
      "source": [
        "def multiplicacao(a,b):\n",
        "  return a * b\n",
        "\n",
        "print(multiplicacao(2,5))"
      ],
      "metadata": {
        "colab": {
          "base_uri": "https://localhost:8080/"
        },
        "id": "kdmw2rlCIoGB",
        "outputId": "3e028128-b7b2-450f-979f-3c8226a7d104"
      },
      "execution_count": null,
      "outputs": [
        {
          "output_type": "stream",
          "name": "stdout",
          "text": [
            "10\n"
          ]
        }
      ]
    },
    {
      "cell_type": "markdown",
      "source": [
        "**Exercício e Prática Proposta - Aula 09**\n",
        "\n",
        "Como sugestão de prática, indicamos você a criar um novo script python seguindo as orientações a seguir:\n",
        "\n",
        "Crie uma função que receba dois parâmetros e realize sua soma, subtração, adição e multiplicação.\n",
        "\n",
        "Informe esses resultados através de um print ao usuário dentro da função."
      ],
      "metadata": {
        "id": "xi6iqz6iI7TD"
      }
    },
    {
      "cell_type": "code",
      "source": [
        "def calculo(x,y):\n",
        "\n",
        "  soma = x + y\n",
        "  subtracao = x - y\n",
        "  divisao = x / y\n",
        "  multiplicacao = x * y\n",
        "\n",
        "  print(\"O resultado da Soma é:\", soma)\n",
        "  print(\"O resultado da Subtração é:\", subtracao)\n",
        "  print(\"O resultado da Divisão é:\", divisao)\n",
        "  print(\"O resultado da Multiplicação é:\", multiplicacao)\n",
        "\n",
        "\n",
        "#calculo(x,y)\n",
        "\n",
        "#x = int(input(\"Digite um Número:\"))\n",
        "#y = int(input(\"Digite um Número:\"))\n",
        "\n",
        "calculo(10,2)\n"
      ],
      "metadata": {
        "colab": {
          "base_uri": "https://localhost:8080/"
        },
        "id": "BAOKjat7JFW_",
        "outputId": "3e8eb5a2-42a0-4afc-ccb2-32642d518e27"
      },
      "execution_count": null,
      "outputs": [
        {
          "output_type": "stream",
          "name": "stdout",
          "text": [
            "O resultado da Soma é: 12\n",
            "O resultado da Subtração é: 8\n",
            "O resultado da Divisão é: 5.0\n",
            "O resultado da Multiplicação é: 20\n"
          ]
        }
      ]
    },
    {
      "cell_type": "markdown",
      "source": [
        "#**Exercício prático Final**\n",
        "\n",
        "**Exercício e Prática Proposta – Desafio Final**\n",
        "\n",
        "Como sugestão de prática, indicamos você a criar um novo script python seguindo as orientações a seguir:\n",
        "\n",
        "Deve se criar 5 funções diferentes, sendo elas somar, subtrair, dividir, multiplicar e listar.\n",
        "\n",
        "Deve se criar um MENU com if else sendo que o usuário escolha qual função deve acessar.\n",
        "\n",
        "Ao ser escolhido a função, o usuário é direcionado a ela e insere os parâmetros que desejam realizar as operações.\n",
        "\n",
        "As funções matemáticas devem receber os números para realizar a operação, realizar o cálculo e imprimir o resultado para o usuário.\n",
        "\n",
        "Na função listar, deve-se criar uma lista de vantagens do python e imprimir para o usuário."
      ],
      "metadata": {
        "id": "9WK33FovbLE4"
      }
    },
    {
      "cell_type": "code",
      "source": [
        "x = float(input(\"Digite um Número Inteiro:\"))\n",
        "y = float(input(\"Digite outro Número Inteiro:\"))\n",
        "\n",
        "#Código pego da Proposta de Resolução da SoulCode\n",
        "def listar():\n",
        "    vantagens = [\n",
        "        \"Sintaxe simples e legível\",\n",
        "        \"Ampla biblioteca padrão\",\n",
        "        \"Portabilidade entre plataformas\",\n",
        "        \"Suporte a programação orientada a objetos\",\n",
        "        \"Grande comunidade de desenvolvedores\",\n",
        "    ]\n",
        "    for vantagem in vantagens:\n",
        "        print(vantagem)\n",
        "\n",
        "print(\"*-------------------------*\")\n",
        "print(\"Bem-vindo ao Menu de Operações!\")\n",
        "print(\"Digite um Número para escoher a Operação desejada:\")\n",
        "print(\"1) Soma;\")\n",
        "print(\"2) Subtração;\")\n",
        "print(\"3) Divisão;\")\n",
        "print(\"4) Multiplicação.\")\n",
        "print(\"5) Listar vantagens do Python\")\n",
        "print(\"*-------------------------*\")\n",
        "\n",
        "numero = int(input(\"Digite um Número:\"))\n",
        "\n",
        "#Aqui irá efetuar a seleão da Opção\n",
        "if numero == 1:\n",
        "\n",
        "  print(\"Você escolheu a Opção 1: Soma\")\n",
        "\n",
        "  soma = x + y\n",
        "\n",
        "  print(\"O Resultado da Soma é:\", soma)\n",
        "\n",
        "elif numero == 2:\n",
        "\n",
        "  print(\"Você escolheu a Opção 2: Subtração\")\n",
        "\n",
        "  subtracao = x - y\n",
        "\n",
        "  print(\"O Resultado da Subtração é:\", subtracao)\n",
        "\n",
        "elif numero == 3:\n",
        "\n",
        "  print(\"Você escolheu a Opção 3: Divisão\")\n",
        "\n",
        "  divisao = x / y\n",
        "\n",
        "  print(\"O Resultado da Divisão é:\", divisao)\n",
        "\n",
        "elif numero == 4:\n",
        "\n",
        "  print(\"Você escolheu a Opção 4: Multiplicação\")\n",
        "\n",
        "  multiplicacao = x * y\n",
        "\n",
        "  print(\"O Resultado da Multiplicação é:\", multiplicacao)\n",
        "\n",
        "elif numero == 5:\n",
        "\n",
        "  print(\"Vantagens do Python:\")\n",
        "  listar()\n",
        "\n",
        "#Se for Falso (False) executa isso\n",
        "else:\n",
        "  print(\"O número digitado não é uma Opção Válida! O número digitado foi:\", numero,\"!\")\n",
        "  print(\"Tente Novamente!\")"
      ],
      "metadata": {
        "id": "jyzF3MCIY8y5",
        "outputId": "ea146a62-47ec-4389-fccf-5acba90c574f",
        "colab": {
          "base_uri": "https://localhost:8080/"
        }
      },
      "execution_count": 2,
      "outputs": [
        {
          "output_type": "stream",
          "name": "stdout",
          "text": [
            "Digite um Número Inteiro:10\n",
            "Digite outro Número Inteiro:5\n",
            "*-------------------------*\n",
            "Bem-vindo ao Menu de Operações!\n",
            "Digite um Número para escoher a Operação desejada:\n",
            "1) Soma;\n",
            "2) Subtração;\n",
            "3) Divisão;\n",
            "4) Multiplicação.\n",
            "5) Listar vantagens do Python\n",
            "*-------------------------*\n",
            "Digite um Número:5\n",
            "Vantagens do Python:\n",
            "Sintaxe simples e legível\n",
            "Ampla biblioteca padrão\n",
            "Portabilidade entre plataformas\n",
            "Suporte a programação orientada a objetos\n",
            "Grande comunidade de desenvolvedores\n"
          ]
        }
      ]
    },
    {
      "cell_type": "markdown",
      "source": [
        "**Gabarito Exercício prático Final - SoulCode**"
      ],
      "metadata": {
        "id": "3i6UqGRliaZ9"
      }
    },
    {
      "cell_type": "code",
      "source": [
        "\"\"\"\n",
        "Neste exemplo, as cinco funções (somar, subtrair, dividir, multiplicar e listar)\n",
        "são definidas no início do script. Em seguida, é exibido um menu com as opções\n",
        "disponíveis. Dependendo da escolha do usuário, o programa solicita os parâmetros\n",
        "necessários para realizar a operação selecionada e exibe o resultado.\n",
        "\n",
        "A função listar cria uma lista de vantagens do Python e as imprime uma a uma\n",
        "utilizando um loop for.\n",
        "\"\"\"\n",
        "\n",
        "def somar(a, b):\n",
        "    return a + b\n",
        "\n",
        "def subtrair(a, b):\n",
        "    return a - b\n",
        "\n",
        "def dividir(a, b):\n",
        "    if b != 0:\n",
        "        return a / b\n",
        "    else:\n",
        "        return \"Erro: divisão por zero\"\n",
        "\n",
        "def multiplicar(a, b):\n",
        "    return a * b\n",
        "\n",
        "def listar():\n",
        "    vantagens = [\n",
        "        \"Sintaxe simples e legível\",\n",
        "        \"Ampla biblioteca padrão\",\n",
        "        \"Portabilidade entre plataformas\",\n",
        "        \"Suporte a programação orientada a objetos\",\n",
        "        \"Grande comunidade de desenvolvedores\",\n",
        "    ]\n",
        "    for vantagem in vantagens:\n",
        "        print(vantagem)\n",
        "\n",
        "print(\"Bem-vindo ao Menu de Operações!\")\n",
        "print(\"1. Somar\")\n",
        "print(\"2. Subtrair\")\n",
        "print(\"3. Dividir\")\n",
        "print(\"4. Multiplicar\")\n",
        "print(\"5. Listar vantagens do Python\")\n",
        "\n",
        "escolha = input(\"Escolha uma opção (1-5): \")\n",
        "\n",
        "if escolha == \"1\":\n",
        "    num1 = float(input(\"Digite o primeiro número: \"))\n",
        "    num2 = float(input(\"Digite o segundo número: \"))\n",
        "    resultado = somar(num1, num2)\n",
        "    print(\"Resultado: \", resultado)\n",
        "elif escolha == \"2\":\n",
        "    num1 = float(input(\"Digite o primeiro número: \"))\n",
        "    num2 = float(input(\"Digite o segundo número: \"))\n",
        "    resultado = subtrair(num1, num2)\n",
        "    print(\"Resultado: \", resultado)\n",
        "elif escolha == \"3\":\n",
        "    num1 = float(input(\"Digite o primeiro número: \"))\n",
        "    num2 = float(input(\"Digite o segundo número: \"))\n",
        "    resultado = dividir(num1, num2)\n",
        "    print(\"Resultado: \", resultado)\n",
        "elif escolha == \"4\":\n",
        "    num1 = float(input(\"Digite o primeiro número: \"))\n",
        "    num2 = float(input(\"Digite o segundo número: \"))\n",
        "    resultado = multiplicar(num1, num2)\n",
        "    print(\"Resultado: \", resultado)\n",
        "elif escolha == \"5\":\n",
        "    print(\"Vantagens do Python:\")\n",
        "    #listar()\n",
        "else:\n",
        "    print(\"Opção inválida.\")"
      ],
      "metadata": {
        "id": "PeaQ91ReiXG9"
      },
      "execution_count": null,
      "outputs": []
    }
  ],
  "metadata": {
    "colab": {
      "provenance": [],
      "collapsed_sections": [
        "Bo8Wl-n7VFY3",
        "V_qFioKXTk0-",
        "44i6qnA2w48V",
        "0OSTHIfj3tvS"
      ],
      "authorship_tag": "ABX9TyOj0UtPFSP4kHcvUIVOohXY",
      "include_colab_link": true
    },
    "kernelspec": {
      "display_name": "Python 3",
      "name": "python3"
    },
    "language_info": {
      "name": "python"
    }
  },
  "nbformat": 4,
  "nbformat_minor": 0
}